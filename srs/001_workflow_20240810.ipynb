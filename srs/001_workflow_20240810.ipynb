{
 "cells": [
  {
   "cell_type": "markdown",
   "metadata": {},
   "source": [
    "# Library import"
   ]
  },
  {
   "cell_type": "code",
   "execution_count": 1,
   "metadata": {},
   "outputs": [
    {
     "name": "stderr",
     "output_type": "stream",
     "text": [
      "/home/ge/MCD/LaboII/.venv/lib/python3.12/site-packages/tqdm/auto.py:21: TqdmWarning: IProgress not found. Please update jupyter and ipywidgets. See https://ipywidgets.readthedocs.io/en/stable/user_install.html\n",
      "  from .autonotebook import tqdm as notebook_tqdm\n"
     ]
    }
   ],
   "source": [
    "#Import de librerias basicas tablas y matrices\n",
    "import numpy as np \n",
    "import pandas as pd \n",
    "\n",
    "#Gradient Boosting\n",
    "import lightgbm as lgb\n",
    "\n",
    "#Funciones auxiliares sklearn\n",
    "from sklearn.model_selection import train_test_split, StratifiedKFold #Split y cross Validation\n",
    "from sklearn.metrics import cohen_kappa_score, accuracy_score, balanced_accuracy_score #Metricas\n",
    "from sklearn.utils import shuffle \n",
    "from sklearn.pipeline import Pipeline\n",
    "from sklearn.preprocessing import OrdinalEncoder\n",
    "from sklearn.compose import ColumnTransformer\n",
    "from sklearn import set_config\n",
    "\n",
    "\n",
    "\n",
    "#Visualizacióon\n",
    "import matplotlib.pyplot as plt\n",
    "from plotly import express as px\n",
    "\n",
    "#Plot de matriz de confusion normalizada en actuals\n",
    "import sys\n",
    "sys.path.append('../Scripts')\n",
    "from utils import plot_confusion_matrix\n",
    "\n",
    "import os\n",
    "\n",
    "#Optimizacion de hiperparametros\n",
    "import optuna\n",
    "from optuna.artifacts import FileSystemArtifactStore, upload_artifact\n",
    "\n",
    "#Guardado de objetos en archivos joblib\n",
    "from joblib import load, dump"
   ]
  },
  {
   "cell_type": "markdown",
   "metadata": {},
   "source": [
    "# Env"
   ]
  },
  {
   "cell_type": "code",
   "execution_count": 2,
   "metadata": {},
   "outputs": [],
   "source": [
    "# Paths para acceso archivos\n",
    "#Este notebook asume la siguiente estructura de carpetas a partir de la ubicacion de base_dir \n",
    "#(dos niveles arriba de la carpeta donde se ejecuta el notebook). \n",
    "# /UA_MDM_LDI_II/\n",
    "# /UA_MDM_LDI_II/input\n",
    "# /UA_MDM_LDI_II/input/petfinder-adoption-prediction/            <- Aca deben ir todos los archivos de datos de la competencia \n",
    "# /UA_MDM_LDI_II/tutoriales/                       <- Aca deben poner los notebooks y scripts que les compartimos\n",
    "# /UA_MDM_LDI_II/work/                             <- Resultados de notebooks iran dentro de esta carpeta en subcarpetas\n",
    "# /UA_MDM_LDI_II/work/models/                     <- Modelos entrenados en archivos joblibs\n",
    "# /UA_MDM_LDI_II/work/optuna_temp_artifacts/      <- Archivos que queremos dejar como artefacto de un trial de optuna (optuna los copiara a la carpeta de abajo)\n",
    "# /UA_MDM_LDI_II/work/optuna_artifacts/           <- Archivos con artefactos que sibimos a optuna\n",
    "\n",
    "#Subimos dos niveles para quedar en la carpeta que contiene input y UA_MDM_LDI_II\n",
    "BASE_DIR = '../'\n",
    "\n",
    "#Datos de entrenamiento \n",
    "PATH_TO_TRAIN = os.path.join(BASE_DIR, \"input/petfinder-adoption-prediction/train/train.csv\")\n",
    "PATH_TO_TEST = os.path.join(BASE_DIR, \"input/petfinder-adoption-prediction/test/test.csv\")\n",
    "\n",
    "#Salida de modelos entrenados\n",
    "PATH_TO_MODELS = os.path.join(BASE_DIR, \"work/models\")\n",
    "\n",
    "#Artefactos a subir a optuna\n",
    "PATH_TO_TEMP_FILES = os.path.join(BASE_DIR, \"work/optuna_temp_artifacts\")\n",
    "\n",
    "#Artefactos que optuna gestiona\n",
    "PATH_TO_OPTUNA_ARTIFACTS = os.path.join(BASE_DIR, \"work/optuna_artifacts\")\n",
    "\n",
    "\n",
    "SEED = 42 #Semilla de procesos aleatorios (para poder replicar exactamente al volver a correr un modelo)\n",
    "TEST_SIZE = 0.2 #Facción para train/test= split\n",
    "\n",
    "# Config for pandas output from pipelines\n",
    "set_config(transform_output = \"pandas\")"
   ]
  },
  {
   "cell_type": "code",
   "execution_count": 3,
   "metadata": {},
   "outputs": [
    {
     "data": {
      "text/plain": [
       "(14993, 24)"
      ]
     },
     "execution_count": 3,
     "metadata": {},
     "output_type": "execute_result"
    }
   ],
   "source": [
    "# Datos Tabulares\n",
    "df_train = pd.read_csv(PATH_TO_TRAIN)\n",
    "df_train.shape"
   ]
  },
  {
   "cell_type": "code",
   "execution_count": 4,
   "metadata": {},
   "outputs": [
    {
     "data": {
      "text/plain": [
       "(3972, 23)"
      ]
     },
     "execution_count": 4,
     "metadata": {},
     "output_type": "execute_result"
    }
   ],
   "source": [
    "# Datos Tabulares\n",
    "df_test = pd.read_csv(PATH_TO_TEST)\n",
    "df_test.shape"
   ]
  },
  {
   "cell_type": "code",
   "execution_count": 5,
   "metadata": {},
   "outputs": [],
   "source": [
    "# Otros archivos\n",
    "\n",
    "# States diccionary\n",
    "df_state_labels = pd.read_csv(os.path.join(BASE_DIR, \"input/petfinder-adoption-prediction/StateLabels.csv\"))\n",
    "df_state_labels['State_Pop'] = [\n",
    "    3794,\n",
    "    2194,\n",
    "    1929,\n",
    "    1746,\n",
    "    100,\n",
    "    937,\n",
    "    1129,\n",
    "    1685,\n",
    "    2509,\n",
    "    255,\n",
    "    1774,\n",
    "    3833,\n",
    "    2822,\n",
    "    6555,\n",
    "    1275\n",
    "]"
   ]
  },
  {
   "cell_type": "markdown",
   "metadata": {},
   "source": [
    "### Categorical variables\n",
    "\n",
    "\n",
    "| Variable       | Type         | Description                                                                           |\n",
    "|----------------|--------------|---------------------------------------------------------------------------------------|\n",
    "| `PetID`        | Categorical  | ID (Should be dropped)                                                                |\n",
    "| `AdoptionSpeed`| Categorical  | Target variable                                                                       |\n",
    "| `Type`         | Categorical  | 1 = Cat, 2 = Dog                                                                      |\n",
    "| `Name`         | Categorical  | Name of pet                                                                           |\n",
    "| `Breed1`       | Categorical  | See BreedLabels dictionary                                                            |\n",
    "| `Breed2`       | Categorical  | See BreedLabels dictionary                                                            |\n",
    "| `Gender`       | Categorical  | 1 = Male, 2 = Female, 3 = Mixed (used for groups)                                     |\n",
    "| `Color1`       | Categorical  | See ColorLabels dictionary                                                            |\n",
    "| `Color2`       | Categorical  | See ColorLabels dictionary                                                            |\n",
    "| `Color3`       | Categorical  | See ColorLabels dictionary                                                            |\n",
    "| `MaturitySize` | Categorical  | 1 = Small, 2 = Medium, 3 = Large, 4 = Extra Large, 0 = Not Specified                  |\n",
    "| `FurLength`    | Categorical  | 1 = Short, 2 = Medium, 3 = Long, 0 = Not Specified                                    |\n",
    "| `Vaccinated`   | Categorical  | 1 = Yes, 2 = No, 3 = Not Sure                                                         |\n",
    "| `Dewormed`     | Categorical  | 1 = Yes, 2 = No, 3 = Not Sure                                                         |\n",
    "| `Sterilized`   | Categorical  | 1 = Yes, 2 = No, 3 = Not Sure                                                         |\n",
    "| `Health`       | Categorical  | 1 = Healthy, 2 = Minor Injury, 3 = Serious Injury, 0 = Not Specified                  |\n",
    "| `State`        | Categorical  | See StateLabels dictionary                                                            |\n",
    "| `RescuerID`    | Categorical  | ID                                                                                    |\n",
    "| `Description`  | Text         | Profile write-up for this pet. The primary language used is English, with some in Malay or Chinese. |\n",
    "\n",
    "### Quantitative Variables\n",
    "\n",
    "| Variable   | Type             |Description                                           |\n",
    "|------------|------------------|------------------------------------------------------|\n",
    "| `Age`      |  Numerical       |Age of pet when listed, in months                     |\n",
    "| `Quantity` |  Numerical       |Number of pets represented in profile                 |\n",
    "| `Fee`      |  Numerical       |Adoption fee (0 = Free)                               |\n",
    "| `VideoAmt` |  Numerical       |Total uploaded videos for this pet                    |\n",
    "| `PhotoAmt` |  Numerical       |Total uploaded photos for this pet                    |"
   ]
  },
  {
   "cell_type": "markdown",
   "metadata": {},
   "source": [
    "# Feature Engineering"
   ]
  },
  {
   "cell_type": "markdown",
   "metadata": {},
   "source": [
    "La funcion apply_fe servira para generar las variables nuevas en base a los datos tabulares disponibles"
   ]
  },
  {
   "cell_type": "code",
   "execution_count": 6,
   "metadata": {
    "vscode": {
     "languageId": "ruby"
    }
   },
   "outputs": [],
   "source": [
    "\n",
    "def apply_fe(dataset):\n",
    "    # Name\n",
    "    # Feature to know if the pet has a name\n",
    "    unknown_names = 'name|puppies|kitten|puppy|unknown'\n",
    "    dataset['Name'] = np.where(dataset['Name'].str.lower().str.contains(unknown_names), np.nan, dataset['Name'])\n",
    "    dataset['Name'] = np.where(dataset['Name'].str.len() < 3, np.nan, dataset['Name'])\n",
    "    dataset['HasName'] = dataset['Name'].apply(lambda x: 0 if pd.isnull(x) else 1)\n",
    "\n",
    "    \n",
    "    # Breed\n",
    "    # Unify values in Breed1\n",
    "    dataset['Breed1'] = np.where((dataset['Breed1']==0) & (dataset['Breed2']!=0), dataset['Breed2'], dataset['Breed1'])\n",
    "    dataset['Breed2'] = np.where((dataset['Breed1']==dataset['Breed2']), 0, dataset['Breed2'])\n",
    "    \n",
    "    # Merge Breed1 and Breed2\n",
    "    dataset['FullBreed'] = dataset['Breed1'].astype(str) + '_' + dataset['Breed2'].astype(str) \n",
    "    # Pure breed\n",
    "    dataset['PureBreed'] = np.where((dataset['Breed2'] == 0) & (~dataset['Breed1'].isin([307, 266, 265, 264])), 1, 0)\n",
    "    \n",
    "    # Color\n",
    "    # Merge Color1, Color2 and Color3\n",
    "    dataset['Color'] = dataset['Color1'].astype(str) + '_' + dataset['Color2'].astype(str) + '_' + dataset['Color3'].astype(str)\n",
    "    # Monochromatic\n",
    "    dataset['Monochromatic'] = np.where((dataset['Color2'] == 0) & (dataset['Color3'] == 0), 1, 0)\n",
    "    \n",
    "    # Health\n",
    "    # Merge Vaccinated, Dewormed and Sterilized to know if the pet is up to date with routine stuff\n",
    "    dataset['Va_De_St'] = dataset['Vaccinated'].astype(str) + '_' + dataset['Dewormed'].astype(str) + '_' + dataset['Sterilized'].astype(str)\n",
    "\n",
    "    # Code to add a min age for sterilization.... But EDA shows that they do it anyway\n",
    "    #df['CanBeSter'] = np.where((df['Age'] > 9) & (df['Type'] == 1) | (df['Age'] > 6) & (df['Type'] == 2), 1, 0)\n",
    "    \n",
    "    # Fee\n",
    "    # Create fee bins using log transformation\n",
    "    dataset['Fee_bins'] = pd.cut(np.log1p(dataset.Fee), 5, labels=['Fee_{}'.format(e) for e in range(5)])\n",
    "\n",
    "    #RescuerID\n",
    "    rescuer_count = dataset.groupby(['RescuerID'])['PetID'].count().reset_index()\n",
    "    rescuer_count.columns = ['RescuerID', 'Rescuer_count']\n",
    "    dataset = dataset.merge(rescuer_count, how='left', on='RescuerID')\n",
    "\n",
    "    # Age\n",
    "    dataset['RelAge'] = np.where(dataset['Type'] == 1, dataset['Age']/144, dataset['Age']/180) # Vida media de un gato 12 años, de un perro 15\n",
    "\n",
    "    # Multimedia\n",
    "    dataset['Total_photo_video'] = dataset['PhotoAmt'] + dataset['VideoAmt']\n",
    "\n",
    "    # Si tiene todo lo del veterinatrio en orden\n",
    "    dataset['VetInOrder'] = np.where((dataset['Vaccinated'] == 1) & (dataset['Dewormed'] == 1) & (dataset['Sterilized'] == 1) & (dataset['Health'] == 1), 1, 0)\n",
    "\n",
    "    # Si le falta info sobre lo relacionado a veterinario\n",
    "    dataset['NoVet'] = np.where((dataset['Vaccinated'] == 3) | (dataset['Dewormed'] == 3) | (dataset['Sterilized'] == 3) | (dataset['Health'] == 3), 1, 0)\n",
    "\n",
    "    # Longitud de la descripcion\n",
    "    dataset['LenDesc'] = dataset['Description'].apply(lambda x: len(str(x)))\n",
    "\n",
    "    # variable \"age_categ\" para categorizar age (identica para perros y gatos, sin problemas según fuentes)\n",
    "    age_categ_cuts = [\n",
    "        (dataset['Age'].le(1*12)),\n",
    "        (dataset['Age'].gt(1*12) & dataset['Age'].le(3*12)),\n",
    "        (dataset['Age'].gt(3*12) & dataset['Age'].le(9*12)),\n",
    "        (dataset['Age'].gt(9*12))   \n",
    "    ]\n",
    "    age_categ_values = [\"baby\",\"young\",\"adult\",\"old\"]\n",
    "    dataset['Age_categ'] = np.select(age_categ_cuts, age_categ_values)\n",
    "\n",
    "    # variable \"individual\" para saber si es un animal solo o un grupo\n",
    "    dataset['Individual'] = np.where((dataset['Quantity'].gt(1)),1,0)\n",
    "\n",
    "    #variable \"free\" para saber si hay que pagar o no por adoptar\n",
    "    dataset['Free'] = np.where((dataset['Fee'].gt(0)),1,0)\n",
    "\n",
    "    # agrego state label y state population\n",
    "    dataset = pd.merge(dataset, df_state_labels, how = \"left\", left_on='State',right_on='StateID')\n",
    "\n",
    "    # Return the augmented dataset\n",
    "    return dataset"
   ]
  },
  {
   "cell_type": "code",
   "execution_count": 7,
   "metadata": {},
   "outputs": [],
   "source": [
    "df_train = apply_fe(df_train.copy())\n",
    "df_test = apply_fe(df_test.copy())"
   ]
  },
  {
   "cell_type": "markdown",
   "metadata": {},
   "source": [
    "# Entrenamiento del modelo"
   ]
  },
  {
   "cell_type": "markdown",
   "metadata": {},
   "source": [
    "Para poder evaluar el modelo entrenado, se realiza un split de los datos de entrenamiento en train y validacion con un tamaño 80/20%"
   ]
  },
  {
   "cell_type": "code",
   "execution_count": 8,
   "metadata": {},
   "outputs": [],
   "source": [
    "y = df_train['AdoptionSpeed']\n",
    "X = df_train.drop(columns=['AdoptionSpeed'])"
   ]
  },
  {
   "cell_type": "code",
   "execution_count": 9,
   "metadata": {},
   "outputs": [],
   "source": [
    "X_train, X_val, y_train, y_val = train_test_split(X, y, \n",
    "                                                    test_size=TEST_SIZE, \n",
    "                                                    random_state=SEED, \n",
    "                                                    stratify=y)"
   ]
  },
  {
   "cell_type": "markdown",
   "metadata": {},
   "source": [
    "A continuación se genera una nueva variable que utiliza la variable objetivo como un input y se agrega la misma a las DataFrame de train y validación. Se hace el calculo después del split para no ensuciar los datos con los que se evaluará el modelo"
   ]
  },
  {
   "cell_type": "code",
   "execution_count": 10,
   "metadata": {},
   "outputs": [],
   "source": [
    "# Calculate the mean adoption speed per state and add that value to train and test datasets\n",
    "state_mean = pd.concat([X_train['State'], y_train], axis=1).groupby('State')['AdoptionSpeed'].mean().reset_index()\n",
    "state_mean.columns = ['State', 'AdoptionSpeed_mean']\n",
    "X_train = X_train.merge(state_mean, how='left', on='State')\n",
    "X_val = X_val.merge(state_mean, how='left', on='State')"
   ]
  },
  {
   "cell_type": "markdown",
   "metadata": {},
   "source": [
    "Luego de las transformaciones nos quedamos con las siguientes columnas que agregamos a listas dependiendo del tipo de variable que son y transformarla en base a eso:\n",
    "\n",
    "* Variables categóricas: Se codifican segun su valor de manera ordinal si se encuentran en al menos 50 observaciones. Caso de que se observen menor cantidad de veces se codifican como otros. Este punto de corte fue encontrado empíricamente en base al valor de la métrica objetivo.\n",
    "* Variables numéricas: No es necesaria ninguna transformación para el algoritmo LightGBM\n",
    "* Variables descartadas: `PetID` por ser un número identificatorio sin relevaciancia predictiva y `Description` ya que no estamos haciendo una evaluación del texto que describe la mascota en el modelo tabular"
   ]
  },
  {
   "cell_type": "code",
   "execution_count": 11,
   "metadata": {},
   "outputs": [
    {
     "data": {
      "text/plain": [
       "Index(['Type', 'Name', 'Age', 'Breed1', 'Breed2', 'Gender', 'Color1', 'Color2',\n",
       "       'Color3', 'MaturitySize', 'FurLength', 'Vaccinated', 'Dewormed',\n",
       "       'Sterilized', 'Health', 'Quantity', 'Fee', 'State', 'RescuerID',\n",
       "       'VideoAmt', 'Description', 'PetID', 'PhotoAmt', 'HasName', 'FullBreed',\n",
       "       'PureBreed', 'Color', 'Monochromatic', 'Va_De_St', 'Fee_bins',\n",
       "       'Rescuer_count', 'RelAge', 'Total_photo_video', 'VetInOrder', 'NoVet',\n",
       "       'LenDesc', 'Age_categ', 'Individual', 'Free', 'StateID', 'StateName',\n",
       "       'State_Pop', 'AdoptionSpeed_mean'],\n",
       "      dtype='object')"
      ]
     },
     "execution_count": 11,
     "metadata": {},
     "output_type": "execute_result"
    }
   ],
   "source": [
    "X_train.columns"
   ]
  },
  {
   "cell_type": "code",
   "execution_count": 12,
   "metadata": {},
   "outputs": [],
   "source": [
    "#Armo listas con features de texto y numericas\n",
    "char_feats = ['Type', 'Breed1', 'Breed2', 'Gender', 'Color1', 'Color2',\n",
    "       'Color3', 'MaturitySize', 'FurLength', 'Vaccinated', 'Dewormed',\n",
    "       'Sterilized','Health', 'State', 'RescuerID',\n",
    "       'Description', 'HasName', 'FullBreed',\n",
    "       'PureBreed', 'Color', 'Monochromatic', 'Va_De_St', 'Fee_bins', 'VetInOrder', 'NoVet','VideoAmt','PhotoAmt','Total_photo_video', 'Name',\n",
    "       'Age_categ', 'Individual', 'Free', 'StateName'\n",
    "       ]\n",
    "#\n",
    "numeric_feats = ['Age', 'Quantity', 'Fee', 'RelAge',\n",
    "       'Rescuer_count', 'LenDesc', 'AdoptionSpeed_mean', ]\n",
    "\n",
    "fe_drop = ['PetID','Description']"
   ]
  },
  {
   "cell_type": "code",
   "execution_count": 13,
   "metadata": {},
   "outputs": [],
   "source": [
    "X_train_id = X_train['PetID']\n",
    "X_train = X_train[char_feats + numeric_feats]\n",
    "\n",
    "X_val_id = X_val['PetID']\n",
    "\n",
    "#X_val_id.to_csv(os.path.join(BASE_DIR, \"input/val_id.csv'), index=False)\n",
    "X_val = X_val[char_feats + numeric_feats]"
   ]
  },
  {
   "cell_type": "code",
   "execution_count": 14,
   "metadata": {},
   "outputs": [],
   "source": [
    "preprocessor = ColumnTransformer(\n",
    "    transformers=[\n",
    "        ('cat', OrdinalEncoder(min_frequency= 50, handle_unknown= 'use_encoded_value', unknown_value= -1), char_feats)],\n",
    "        remainder= 'passthrough')"
   ]
  },
  {
   "cell_type": "code",
   "execution_count": 15,
   "metadata": {},
   "outputs": [],
   "source": [
    "X_train = preprocessor.fit_transform(X_train)\n",
    "X_val = preprocessor.transform(X_val)"
   ]
  },
  {
   "cell_type": "markdown",
   "metadata": {},
   "source": [
    "Se entrena un primer modelo para evaluar las variables creadas y la importancia de las variables del modelo"
   ]
  },
  {
   "cell_type": "code",
   "execution_count": 16,
   "metadata": {},
   "outputs": [
    {
     "name": "stdout",
     "output_type": "stream",
     "text": [
      "[LightGBM] [Info] Number of positive: 328, number of negative: 11666\n",
      "[LightGBM] [Info] Number of positive: 2472, number of negative: 9522\n",
      "[LightGBM] [Info] Number of positive: 3230, number of negative: 8764\n",
      "[LightGBM] [Info] Number of positive: 2607, number of negative: 9387\n",
      "[LightGBM] [Info] Number of positive: 3357, number of negative: 8637\n",
      "[LightGBM] [Info] Auto-choosing row-wise multi-threading, the overhead of testing was 0.000800 seconds.\n",
      "You can set `force_row_wise=true` to remove the overhead.\n",
      "And if memory is not enough, you can set `force_col_wise=true`.\n",
      "[LightGBM] [Info] Total Bins 826\n",
      "[LightGBM] [Info] Number of data points in the train set: 11994, number of used features: 40\n",
      "[LightGBM] [Info] [binary:BoostFromScore]: pavg=0.027347 -> initscore=-3.571420\n",
      "[LightGBM] [Info] Start training from score -3.571420\n",
      "[LightGBM] [Info] [binary:BoostFromScore]: pavg=0.206103 -> initscore=-1.348577\n",
      "[LightGBM] [Info] Start training from score -1.348577\n",
      "[LightGBM] [Info] [binary:BoostFromScore]: pavg=0.269301 -> initscore=-0.998170\n",
      "[LightGBM] [Info] Start training from score -0.998170\n",
      "[LightGBM] [Info] [binary:BoostFromScore]: pavg=0.217359 -> initscore=-1.281126\n",
      "[LightGBM] [Info] Start training from score -1.281126\n",
      "[LightGBM] [Info] [binary:BoostFromScore]: pavg=0.279890 -> initscore=-0.945008\n",
      "[LightGBM] [Info] Start training from score -0.945008\n"
     ]
    }
   ],
   "source": [
    "#Entreno un modelo inicial sin modificar hiperparametros. Solamente especifico el numero de clases y el tipo de modelo como clasificacoión\n",
    "lgb_params = params = {\n",
    "                        'objective': 'multiclassova',\n",
    "                        'num_class': 5,\n",
    "                        'learning_rate': 0.01,\n",
    "                        'n_estimators': 1000,\n",
    "                        'device': 'cpu'\n",
    "                        }\n",
    "\n",
    "\n",
    "#genero el objeto Dataset que debo pasarle a lightgbm para que entrene\n",
    "lgb_train_dataset = lgb.Dataset(data=X_train,\n",
    "                                label=y_train)\n",
    "\n",
    "#entreno el modelo con los parametros por defecto\n",
    "lgb_model = lgb.train(lgb_params,\n",
    "                      lgb_train_dataset)"
   ]
  },
  {
   "cell_type": "code",
   "execution_count": 17,
   "metadata": {},
   "outputs": [
    {
     "data": {
      "text/plain": [
       "0.3271259225867651"
      ]
     },
     "execution_count": 17,
     "metadata": {},
     "output_type": "execute_result"
    }
   ],
   "source": [
    "y_pred = lgb_model.predict(X_val).argmax(axis=1)\n",
    "\n",
    "#Calculo el Kappa\n",
    "cohen_kappa_score(y_val,y_pred, weights = 'quadratic')"
   ]
  },
  {
   "cell_type": "code",
   "execution_count": 18,
   "metadata": {},
   "outputs": [
    {
     "data": {
      "image/png": "[encoded data removed]",
      "text/plain": [
       "<Figure size 1000x800 with 1 Axes>"
      ]
     },
     "metadata": {},
     "output_type": "display_data"
    }
   ],
   "source": [
    "feature_importance = pd.DataFrame({'feature': preprocessor.get_feature_names_out(), 'weight': lgb_model.feature_importance(importance_type='gain')})\n",
    "\n",
    "# Sort feature importance\n",
    "feature_importance = feature_importance.sort_values('weight', ascending=False)\n",
    "\n",
    "# Plot feature importance\n",
    "plt.figure(figsize=(10, 8))\n",
    "plt.barh(feature_importance['feature'], feature_importance['weight'])\n",
    "plt.xlabel('Importance')\n",
    "plt.ylabel('Feature')\n",
    "plt.title('Feature Importance')\n",
    "plt.gca().invert_yaxis()\n",
    "plt.show()"
   ]
  },
  {
   "cell_type": "markdown",
   "metadata": {},
   "source": [
    "Como ninguna variable perjudica el poder predictivo y la cantidad de variables no es excesivo para el poder de computo disponible se decide dejar todas las varibles"
   ]
  },
  {
   "cell_type": "markdown",
   "metadata": {},
   "source": [
    "# Optimización de los hyperparametros"
   ]
  },
  {
   "cell_type": "code",
   "execution_count": 19,
   "metadata": {},
   "outputs": [],
   "source": [
    "#Genero una metrica para que lightGBM haga la evaluación y pueda hacer early_stopping en el cross validation\n",
    "def lgb_custom_metric_kappa(dy_pred, dy_true):\n",
    "    metric_name = 'kappa'\n",
    "    value = cohen_kappa_score(dy_true.get_label(),dy_pred.argmax(axis=1),weights = 'quadratic')\n",
    "    is_higher_better = True\n",
    "    return(metric_name, value, is_higher_better)\n",
    "\n",
    "#Funcion objetivo a optimizar. En este caso vamos a hacer 5fold cv sobre el conjunto de train. \n",
    "# El score de CV es el objetivo a optimizar. Ademas vamos a usar los 5 modelos del CV para estimar el conjunto de test,\n",
    "# registraremos en optuna las predicciones, matriz de confusion y el score en test.\n",
    "# CV Score -> Se usa para determinar el rendimiento de los hiperparametros con precision \n",
    "# Test Score -> Nos permite testear que esta todo OK, no use (ni debo usar) esos datos para nada en el entrenamiento \n",
    "# o la optimizacion de hiperparametros\n",
    "\n",
    "def cv_es_lgb_objective(trial):\n",
    "\n",
    "    #PArametros para LightGBM\n",
    "    lgb_params = {      \n",
    "                        #PArametros fijos\n",
    "                        'objective': 'multiclassova',\n",
    "                        'verbosity':-1,\n",
    "                        'num_class': len(y_train.unique()),\n",
    "                        'seed': SEED,\n",
    "                        \n",
    "                        #Hiperparametros a optimizar utilizando suggest_float o suggest_int segun el tipo de dato\n",
    "                        #Se indica el nombre del parametro, valor minimo, valor maximo \n",
    "                        #en elgunos casos el parametro log=True para parametros que requieren buscar en esa escala\n",
    "                        'lambda_l1': trial.suggest_float('lambda_l1', 1e-6, 1e-2, log=True),\n",
    "                        'lambda_l2': trial.suggest_float('lambda_l2', 1e-5, 0.01, log=True),\n",
    "                        'num_leaves': trial.suggest_int('num_leaves', 100, 256),\n",
    "                        'learning_rate': trial.suggest_float('learning_rate', 0.001, 0.1),\n",
    "                        'min_data_in_leaf': trial.suggest_int('min_data_in_leaf', 5, 40),\n",
    "                        'feature_fraction': trial.suggest_float('feature_fraction', 0.4, 0.8),\n",
    "                        'bagging_fraction': trial.suggest_float('bagging_fraction', 0.6, 0.9),\n",
    "                        'bagging_freq': trial.suggest_int('bagging_freq', 1, 3),\n",
    "                        'min_child_samples': trial.suggest_int('min_child_samples', 10, 50),\n",
    "                        'n_estimators': trial.suggest_int('n_estimators', 500, 1500),\n",
    "                        'min_split_gain': trial.suggest_float('min_split_gain', 1, 6),\n",
    "                        \"max_bin\": trial.suggest_int('max_bin', 300, 500),\n",
    "                        } \n",
    "\n",
    "    #Voy a generar estimaciones de los 5 modelos del CV sobre los datos test y los acumulo en la matriz scores_ensemble\n",
    "    scores_ensemble = np.zeros((len(y_val),len(y_train.unique())))\n",
    "\n",
    "    #Score del 5 fold CV inicializado en 0\n",
    "    score_folds = 0\n",
    "\n",
    "    #Numero de splits del CV\n",
    "    n_splits = 5\n",
    "\n",
    "    #Objeto para hacer el split estratificado de CV\n",
    "    skf = StratifiedKFold(n_splits=n_splits)\n",
    "\n",
    "    for i, (if_index, oof_index) in enumerate(skf.split(X_train, y_train)):\n",
    "        \n",
    "        #Dataset in fold (donde entreno) \n",
    "        lgb_if_dataset = lgb.Dataset(data=X_train.iloc[if_index],\n",
    "                                        label=y_train.iloc[if_index],\n",
    "                                        free_raw_data=False)\n",
    "        \n",
    "        #Dataset Out of fold (donde mido la performance del CV)\n",
    "        lgb_oof_dataset = lgb.Dataset(data=X_train.iloc[oof_index],\n",
    "                                        label=y_train.iloc[oof_index],\n",
    "                                        free_raw_data=False)\n",
    "\n",
    "        #Entreno el modelo\n",
    "        lgb_model = lgb.train(lgb_params,\n",
    "                                lgb_if_dataset,\n",
    "                                valid_sets=lgb_oof_dataset,\n",
    "                                feval = lgb_custom_metric_kappa\n",
    "                                )\n",
    "        \n",
    "        #Acumulo los scores (probabilidades) de cada clase para cada uno de los modelos que determino en los folds\n",
    "        #Se predice el 20% de los datos que separe para tes y no uso para entrenar en ningun fold\n",
    "        scores_ensemble = scores_ensemble + lgb_model.predict(X_val)\n",
    "        \n",
    "        #Score del fold (registros de dataset train que en este fold quedan out of fold)\n",
    "        score_folds = score_folds + cohen_kappa_score(y_train.iloc[oof_index], \n",
    "                                                            lgb_model.predict(X_train.iloc[oof_index]).argmax(axis=1),weights = 'quadratic')/n_splits\n",
    "\n",
    "\n",
    "    #Guardo prediccion del trial sobre el conjunto de test\n",
    "    # Genero nombre de archivo\n",
    "    predicted_filename = os.path.join(PATH_TO_TEMP_FILES,f'test_{trial.study.study_name}_{trial.number}.joblib')\n",
    "    # Copia del dataset para guardar la prediccion\n",
    "    predicted_df = pd.DataFrame(X_val,y_val).copy()\n",
    "    # Genero columna pred con predicciones sumadas de los 5 folds\n",
    "    predicted_df['pred'] = [scores_ensemble[p,:] for p in range(scores_ensemble.shape[0])]\n",
    "    # Grabo dataframe en temp_artifacts\n",
    "    dump(predicted_df, predicted_filename)\n",
    "    # Indico a optuna que asocie el archivo generado al trial\n",
    "    #upload_artifact(trial, predicted_filename, artifact_store)    \n",
    "\n",
    "    #Grabo natriz de confusion\n",
    "    #Nombre de archivo\n",
    "    cm_filename = os.path.join(PATH_TO_TEMP_FILES,f'cm_{trial.study.study_name}_{trial.number}.jpg')\n",
    "    #Grabo archivo\n",
    "    plot_confusion_matrix(y_val,scores_ensemble.argmax(axis=1)).write_image(cm_filename)\n",
    "    #Asocio al trial\n",
    "    #upload_artifact(trial, cm_filename, artifact_store)\n",
    "\n",
    "    #Determino score en conjunto de test y asocio como metrica adicional en optuna\n",
    "    test_score = cohen_kappa_score(y_val,scores_ensemble.argmax(axis=1),weights = 'quadratic')\n",
    "    trial.set_user_attr(\"test_score\", test_score)\n",
    "\n",
    "    #Devuelvo score del 5fold cv a optuna para que optimice en base a eso\n",
    "    return(score_folds)"
   ]
  },
  {
   "cell_type": "code",
   "execution_count": 20,
   "metadata": {},
   "outputs": [
    {
     "name": "stderr",
     "output_type": "stream",
     "text": [
      "[I 2024-10-14 22:36:06,417] Using an existing study with name 'Final - Ge - LGB Multiclass CV 13102024' instead of creating a new one.\n"
     ]
    }
   ],
   "source": [
    "#Inicio el store de artefactos (archivos) de optuna\n",
    "artifact_store = FileSystemArtifactStore(base_path=PATH_TO_OPTUNA_ARTIFACTS)\n",
    "\n",
    "#Genero estudio\n",
    "study = optuna.create_study(direction='maximize',\n",
    "                            storage=\"sqlite:///../work/db.sqlite3\",  # Specify the storage URL here.\n",
    "                            study_name=\"Final - Ge - LGB Multiclass CV 13102024\",\n",
    "                            load_if_exists = True)\n",
    "#Corro la optimizacion\n",
    "run_optuna = False\n",
    "optuna.logging.set_verbosity(optuna.logging.WARNING)\n",
    "if run_optuna:\n",
    "    study.optimize(cv_es_lgb_objective, n_trials=100, show_progress_bar = True)\n",
    "# Guardo los mejores hiperparametros\n",
    "lgbm_params = study.best_params"
   ]
  },
  {
   "cell_type": "code",
   "execution_count": 21,
   "metadata": {},
   "outputs": [],
   "source": [
    "#!optuna-dashboard sqlite:///../work/db.sqlite3 --artifact-dir ../work/optuna_artifacts --port 8081"
   ]
  },
  {
   "cell_type": "markdown",
   "metadata": {},
   "source": [
    "Resultados de los 10 mejores parametros"
   ]
  },
  {
   "cell_type": "code",
   "execution_count": 22,
   "metadata": {},
   "outputs": [
    {
     "name": "stdout",
     "output_type": "stream",
     "text": [
      "Trial 93 - 0.397120671453317: {'lambda_l1': 4.697131335007363e-06, 'lambda_l2': 0.004696103784321398, 'num_leaves': 190, 'learning_rate': 0.007606036001432134, 'min_data_in_leaf': 5, 'feature_fraction': 0.7706742207041094, 'bagging_fraction': 0.6149712062788686, 'bagging_freq': 1, 'min_child_samples': 33, 'n_estimators': 705, 'min_split_gain': 1.0814103399541026, 'max_bin': 380}\n",
      "Trial 12 - 0.3963923526769226: {'lambda_l1': 0.007932469053922558, 'lambda_l2': 0.009714119568746567, 'num_leaves': 152, 'learning_rate': 0.04149808181455818, 'min_data_in_leaf': 5, 'feature_fraction': 0.7805136900897587, 'bagging_fraction': 0.6041613680365248, 'bagging_freq': 1, 'min_child_samples': 34, 'n_estimators': 732, 'min_split_gain': 1.0246193696762793, 'max_bin': 337}\n",
      "Trial 57 - 0.3957767705354339: {'lambda_l1': 2.2730220624495335e-05, 'lambda_l2': 0.008008982262809073, 'num_leaves': 180, 'learning_rate': 0.03821627280197169, 'min_data_in_leaf': 10, 'feature_fraction': 0.7572117588840829, 'bagging_fraction': 0.6809960364594405, 'bagging_freq': 1, 'min_child_samples': 37, 'n_estimators': 784, 'min_split_gain': 1.4140587415034502, 'max_bin': 420}\n",
      "Trial 61 - 0.3952773099940609: {'lambda_l1': 1.4811779196265986e-05, 'lambda_l2': 0.0081394353663733, 'num_leaves': 197, 'learning_rate': 0.0309634561568114, 'min_data_in_leaf': 5, 'feature_fraction': 0.7534185405658643, 'bagging_fraction': 0.609890761590785, 'bagging_freq': 1, 'min_child_samples': 37, 'n_estimators': 746, 'min_split_gain': 1.0004686076678775, 'max_bin': 395}\n",
      "Trial 21 - 0.39470392097991847: {'lambda_l1': 0.0004023138156908127, 'lambda_l2': 0.009383296794515791, 'num_leaves': 154, 'learning_rate': 0.04749723449416781, 'min_data_in_leaf': 5, 'feature_fraction': 0.7911583077230893, 'bagging_fraction': 0.6253391990504819, 'bagging_freq': 1, 'min_child_samples': 36, 'n_estimators': 503, 'min_split_gain': 1.329784311730763, 'max_bin': 307}\n",
      "Trial 46 - 0.39405868290378154: {'lambda_l1': 1.8116175939016618e-05, 'lambda_l2': 0.0033229937124576964, 'num_leaves': 235, 'learning_rate': 0.04646371746748395, 'min_data_in_leaf': 5, 'feature_fraction': 0.7580491125956367, 'bagging_fraction': 0.7565283574632552, 'bagging_freq': 1, 'min_child_samples': 21, 'n_estimators': 1349, 'min_split_gain': 1.2415843957059363, 'max_bin': 485}\n",
      "Trial 39 - 0.3940434974009747: {'lambda_l1': 1.6141684342140249e-06, 'lambda_l2': 0.003542386838839051, 'num_leaves': 203, 'learning_rate': 0.039604525205821355, 'min_data_in_leaf': 16, 'feature_fraction': 0.7671586332578749, 'bagging_fraction': 0.7519152047526683, 'bagging_freq': 1, 'min_child_samples': 16, 'n_estimators': 548, 'min_split_gain': 1.1924839445962752, 'max_bin': 468}\n",
      "Trial 31 - 0.3939037535468999: {'lambda_l1': 0.00028011920365185607, 'lambda_l2': 0.0069743191902704145, 'num_leaves': 150, 'learning_rate': 0.048152534648231174, 'min_data_in_leaf': 6, 'feature_fraction': 0.7913316877213615, 'bagging_fraction': 0.6187788358860702, 'bagging_freq': 1, 'min_child_samples': 36, 'n_estimators': 550, 'min_split_gain': 1.0290688139746542, 'max_bin': 300}\n",
      "Trial 91 - 0.3938825071245601: {'lambda_l1': 4.980872811458861e-06, 'lambda_l2': 0.004257792118406799, 'num_leaves': 194, 'learning_rate': 0.008744830032066579, 'min_data_in_leaf': 5, 'feature_fraction': 0.7437487399214918, 'bagging_fraction': 0.6213798681485356, 'bagging_freq': 1, 'min_child_samples': 32, 'n_estimators': 649, 'min_split_gain': 1.1301387943668706, 'max_bin': 391}\n",
      "Trial 51 - 0.39384030482063304: {'lambda_l1': 3.7948460094739213e-06, 'lambda_l2': 0.007494441896641241, 'num_leaves': 191, 'learning_rate': 0.0353068106200659, 'min_data_in_leaf': 8, 'feature_fraction': 0.7770377090765597, 'bagging_fraction': 0.8297612303043641, 'bagging_freq': 1, 'min_child_samples': 18, 'n_estimators': 566, 'min_split_gain': 1.0175517414022124, 'max_bin': 485}\n"
     ]
    }
   ],
   "source": [
    "sorted_trials = sorted(study.get_trials(), key=lambda trial: trial.value, reverse=True)[:10]\n",
    "for trial in sorted_trials:\n",
    "    print(f\"Trial {trial.number} - {trial.value}: {trial.params}\")"
   ]
  },
  {
   "cell_type": "markdown",
   "metadata": {},
   "source": [
    "# Modelo final"
   ]
  },
  {
   "cell_type": "code",
   "execution_count": 23,
   "metadata": {},
   "outputs": [
    {
     "data": {
      "application/vnd.plotly.v1+json": {
       "config": {
        "plotlyServerURL": "https://plot.ly"
       },
       "data": [
        {
         "type": "heatmap",
         "x": [
          0,
          1,
          2,
          3,
          4
         ],
         "y": [
          0,
          1,
          2,
          3,
          4
         ],
         "z": [
          [
           3.6585365853658534,
           52.4390243902439,
           12.195121951219512,
           14.634146341463413,
           17.073170731707318
          ],
          [
           0.48543689320388345,
           47.57281553398058,
           23.462783171521036,
           10.841423948220065,
           17.637540453074433
          ],
          [
           0,
           31.350681536555143,
           32.96158612143743,
           16.728624535315987,
           18.95910780669145
          ],
          [
           0,
           23.619631901840492,
           25.4601226993865,
           32.82208588957055,
           18.098159509202453
          ],
          [
           0,
           16.30952380952381,
           13.928571428571429,
           10,
           59.76190476190476
          ]
         ]
        }
       ],
       "layout": {
        "annotations": [
         {
          "font": {
           "color": "white"
          },
          "showarrow": false,
          "text": "3.7 - 3",
          "x": 0,
          "xref": "x",
          "y": 0,
          "yref": "y"
         },
         {
          "font": {
           "color": "white"
          },
          "showarrow": false,
          "text": "52.4 - 43",
          "x": 1,
          "xref": "x",
          "y": 0,
          "yref": "y"
         },
         {
          "font": {
           "color": "white"
          },
          "showarrow": false,
          "text": "12.2 - 10",
          "x": 2,
          "xref": "x",
          "y": 0,
          "yref": "y"
         },
         {
          "font": {
           "color": "white"
          },
          "showarrow": false,
          "text": "14.6 - 12",
          "x": 3,
          "xref": "x",
          "y": 0,
          "yref": "y"
         },
         {
          "font": {
           "color": "white"
          },
          "showarrow": false,
          "text": "17.1 - 14",
          "x": 4,
          "xref": "x",
          "y": 0,
          "yref": "y"
         },
         {
          "font": {
           "color": "white"
          },
          "showarrow": false,
          "text": "0.5 - 3",
          "x": 0,
          "xref": "x",
          "y": 1,
          "yref": "y"
         },
         {
          "font": {
           "color": "white"
          },
          "showarrow": false,
          "text": "47.6 - 294",
          "x": 1,
          "xref": "x",
          "y": 1,
          "yref": "y"
         },
         {
          "font": {
           "color": "white"
          },
          "showarrow": false,
          "text": "23.5 - 145",
          "x": 2,
          "xref": "x",
          "y": 1,
          "yref": "y"
         },
         {
          "font": {
           "color": "white"
          },
          "showarrow": false,
          "text": "10.8 - 67",
          "x": 3,
          "xref": "x",
          "y": 1,
          "yref": "y"
         },
         {
          "font": {
           "color": "white"
          },
          "showarrow": false,
          "text": "17.6 - 109",
          "x": 4,
          "xref": "x",
          "y": 1,
          "yref": "y"
         },
         {
          "font": {
           "color": "white"
          },
          "showarrow": false,
          "text": "0.0 - 0",
          "x": 0,
          "xref": "x",
          "y": 2,
          "yref": "y"
         },
         {
          "font": {
           "color": "white"
          },
          "showarrow": false,
          "text": "31.4 - 253",
          "x": 1,
          "xref": "x",
          "y": 2,
          "yref": "y"
         },
         {
          "font": {
           "color": "white"
          },
          "showarrow": false,
          "text": "33.0 - 266",
          "x": 2,
          "xref": "x",
          "y": 2,
          "yref": "y"
         },
         {
          "font": {
           "color": "white"
          },
          "showarrow": false,
          "text": "16.7 - 135",
          "x": 3,
          "xref": "x",
          "y": 2,
          "yref": "y"
         },
         {
          "font": {
           "color": "white"
          },
          "showarrow": false,
          "text": "19.0 - 153",
          "x": 4,
          "xref": "x",
          "y": 2,
          "yref": "y"
         },
         {
          "font": {
           "color": "white"
          },
          "showarrow": false,
          "text": "0.0 - 0",
          "x": 0,
          "xref": "x",
          "y": 3,
          "yref": "y"
         },
         {
          "font": {
           "color": "white"
          },
          "showarrow": false,
          "text": "23.6 - 154",
          "x": 1,
          "xref": "x",
          "y": 3,
          "yref": "y"
         },
         {
          "font": {
           "color": "white"
          },
          "showarrow": false,
          "text": "25.5 - 166",
          "x": 2,
          "xref": "x",
          "y": 3,
          "yref": "y"
         },
         {
          "font": {
           "color": "white"
          },
          "showarrow": false,
          "text": "32.8 - 214",
          "x": 3,
          "xref": "x",
          "y": 3,
          "yref": "y"
         },
         {
          "font": {
           "color": "white"
          },
          "showarrow": false,
          "text": "18.1 - 118",
          "x": 4,
          "xref": "x",
          "y": 3,
          "yref": "y"
         },
         {
          "font": {
           "color": "white"
          },
          "showarrow": false,
          "text": "0.0 - 0",
          "x": 0,
          "xref": "x",
          "y": 4,
          "yref": "y"
         },
         {
          "font": {
           "color": "white"
          },
          "showarrow": false,
          "text": "16.3 - 137",
          "x": 1,
          "xref": "x",
          "y": 4,
          "yref": "y"
         },
         {
          "font": {
           "color": "white"
          },
          "showarrow": false,
          "text": "13.9 - 117",
          "x": 2,
          "xref": "x",
          "y": 4,
          "yref": "y"
         },
         {
          "font": {
           "color": "white"
          },
          "showarrow": false,
          "text": "10.0 - 84",
          "x": 3,
          "xref": "x",
          "y": 4,
          "yref": "y"
         },
         {
          "font": {
           "color": "white"
          },
          "showarrow": false,
          "text": "59.8 - 502",
          "x": 4,
          "xref": "x",
          "y": 4,
          "yref": "y"
         }
        ],
        "height": 800,
        "template": {
         "data": {
          "bar": [
           {
            "error_x": {
             "color": "#2a3f5f"
            },
            "error_y": {
             "color": "#2a3f5f"
            },
            "marker": {
             "line": {
              "color": "#E5ECF6",
              "width": 0.5
             },
             "pattern": {
              "fillmode": "overlay",
              "size": 10,
              "solidity": 0.2
             }
            },
            "type": "bar"
           }
          ],
          "barpolar": [
           {
            "marker": {
             "line": {
              "color": "#E5ECF6",
              "width": 0.5
             },
             "pattern": {
              "fillmode": "overlay",
              "size": 10,
              "solidity": 0.2
             }
            },
            "type": "barpolar"
           }
          ],
          "carpet": [
           {
            "aaxis": {
             "endlinecolor": "#2a3f5f",
             "gridcolor": "white",
             "linecolor": "white",
             "minorgridcolor": "white",
             "startlinecolor": "#2a3f5f"
            },
            "baxis": {
             "endlinecolor": "#2a3f5f",
             "gridcolor": "white",
             "linecolor": "white",
             "minorgridcolor": "white",
             "startlinecolor": "#2a3f5f"
            },
            "type": "carpet"
           }
          ],
          "choropleth": [
           {
            "colorbar": {
             "outlinewidth": 0,
             "ticks": ""
            },
            "type": "choropleth"
           }
          ],
          "contour": [
           {
            "colorbar": {
             "outlinewidth": 0,
             "ticks": ""
            },
            "colorscale": [
             [
              0,
              "#0d0887"
             ],
             [
              0.1111111111111111,
              "#46039f"
             ],
             [
              0.2222222222222222,
              "#7201a8"
             ],
             [
              0.3333333333333333,
              "#9c179e"
             ],
             [
              0.4444444444444444,
              "#bd3786"
             ],
             [
              0.5555555555555556,
              "#d8576b"
             ],
             [
              0.6666666666666666,
              "#ed7953"
             ],
             [
              0.7777777777777778,
              "#fb9f3a"
             ],
             [
              0.8888888888888888,
              "#fdca26"
             ],
             [
              1,
              "#f0f921"
             ]
            ],
            "type": "contour"
           }
          ],
          "contourcarpet": [
           {
            "colorbar": {
             "outlinewidth": 0,
             "ticks": ""
            },
            "type": "contourcarpet"
           }
          ],
          "heatmap": [
           {
            "colorbar": {
             "outlinewidth": 0,
             "ticks": ""
            },
            "colorscale": [
             [
              0,
              "#0d0887"
             ],
             [
              0.1111111111111111,
              "#46039f"
             ],
             [
              0.2222222222222222,
              "#7201a8"
             ],
             [
              0.3333333333333333,
              "#9c179e"
             ],
             [
              0.4444444444444444,
              "#bd3786"
             ],
             [
              0.5555555555555556,
              "#d8576b"
             ],
             [
              0.6666666666666666,
              "#ed7953"
             ],
             [
              0.7777777777777778,
              "#fb9f3a"
             ],
             [
              0.8888888888888888,
              "#fdca26"
             ],
             [
              1,
              "#f0f921"
             ]
            ],
            "type": "heatmap"
           }
          ],
          "heatmapgl": [
           {
            "colorbar": {
             "outlinewidth": 0,
             "ticks": ""
            },
            "colorscale": [
             [
              0,
              "#0d0887"
             ],
             [
              0.1111111111111111,
              "#46039f"
             ],
             [
              0.2222222222222222,
              "#7201a8"
             ],
             [
              0.3333333333333333,
              "#9c179e"
             ],
             [
              0.4444444444444444,
              "#bd3786"
             ],
             [
              0.5555555555555556,
              "#d8576b"
             ],
             [
              0.6666666666666666,
              "#ed7953"
             ],
             [
              0.7777777777777778,
              "#fb9f3a"
             ],
             [
              0.8888888888888888,
              "#fdca26"
             ],
             [
              1,
              "#f0f921"
             ]
            ],
            "type": "heatmapgl"
           }
          ],
          "histogram": [
           {
            "marker": {
             "pattern": {
              "fillmode": "overlay",
              "size": 10,
              "solidity": 0.2
             }
            },
            "type": "histogram"
           }
          ],
          "histogram2d": [
           {
            "colorbar": {
             "outlinewidth": 0,
             "ticks": ""
            },
            "colorscale": [
             [
              0,
              "#0d0887"
             ],
             [
              0.1111111111111111,
              "#46039f"
             ],
             [
              0.2222222222222222,
              "#7201a8"
             ],
             [
              0.3333333333333333,
              "#9c179e"
             ],
             [
              0.4444444444444444,
              "#bd3786"
             ],
             [
              0.5555555555555556,
              "#d8576b"
             ],
             [
              0.6666666666666666,
              "#ed7953"
             ],
             [
              0.7777777777777778,
              "#fb9f3a"
             ],
             [
              0.8888888888888888,
              "#fdca26"
             ],
             [
              1,
              "#f0f921"
             ]
            ],
            "type": "histogram2d"
           }
          ],
          "histogram2dcontour": [
           {
            "colorbar": {
             "outlinewidth": 0,
             "ticks": ""
            },
            "colorscale": [
             [
              0,
              "#0d0887"
             ],
             [
              0.1111111111111111,
              "#46039f"
             ],
             [
              0.2222222222222222,
              "#7201a8"
             ],
             [
              0.3333333333333333,
              "#9c179e"
             ],
             [
              0.4444444444444444,
              "#bd3786"
             ],
             [
              0.5555555555555556,
              "#d8576b"
             ],
             [
              0.6666666666666666,
              "#ed7953"
             ],
             [
              0.7777777777777778,
              "#fb9f3a"
             ],
             [
              0.8888888888888888,
              "#fdca26"
             ],
             [
              1,
              "#f0f921"
             ]
            ],
            "type": "histogram2dcontour"
           }
          ],
          "mesh3d": [
           {
            "colorbar": {
             "outlinewidth": 0,
             "ticks": ""
            },
            "type": "mesh3d"
           }
          ],
          "parcoords": [
           {
            "line": {
             "colorbar": {
              "outlinewidth": 0,
              "ticks": ""
             }
            },
            "type": "parcoords"
           }
          ],
          "pie": [
           {
            "automargin": true,
            "type": "pie"
           }
          ],
          "scatter": [
           {
            "fillpattern": {
             "fillmode": "overlay",
             "size": 10,
             "solidity": 0.2
            },
            "type": "scatter"
           }
          ],
          "scatter3d": [
           {
            "line": {
             "colorbar": {
              "outlinewidth": 0,
              "ticks": ""
             }
            },
            "marker": {
             "colorbar": {
              "outlinewidth": 0,
              "ticks": ""
             }
            },
            "type": "scatter3d"
           }
          ],
          "scattercarpet": [
           {
            "marker": {
             "colorbar": {
              "outlinewidth": 0,
              "ticks": ""
             }
            },
            "type": "scattercarpet"
           }
          ],
          "scattergeo": [
           {
            "marker": {
             "colorbar": {
              "outlinewidth": 0,
              "ticks": ""
             }
            },
            "type": "scattergeo"
           }
          ],
          "scattergl": [
           {
            "marker": {
             "colorbar": {
              "outlinewidth": 0,
              "ticks": ""
             }
            },
            "type": "scattergl"
           }
          ],
          "scattermapbox": [
           {
            "marker": {
             "colorbar": {
              "outlinewidth": 0,
              "ticks": ""
             }
            },
            "type": "scattermapbox"
           }
          ],
          "scatterpolar": [
           {
            "marker": {
             "colorbar": {
              "outlinewidth": 0,
              "ticks": ""
             }
            },
            "type": "scatterpolar"
           }
          ],
          "scatterpolargl": [
           {
            "marker": {
             "colorbar": {
              "outlinewidth": 0,
              "ticks": ""
             }
            },
            "type": "scatterpolargl"
           }
          ],
          "scatterternary": [
           {
            "marker": {
             "colorbar": {
              "outlinewidth": 0,
              "ticks": ""
             }
            },
            "type": "scatterternary"
           }
          ],
          "surface": [
           {
            "colorbar": {
             "outlinewidth": 0,
             "ticks": ""
            },
            "colorscale": [
             [
              0,
              "#0d0887"
             ],
             [
              0.1111111111111111,
              "#46039f"
             ],
             [
              0.2222222222222222,
              "#7201a8"
             ],
             [
              0.3333333333333333,
              "#9c179e"
             ],
             [
              0.4444444444444444,
              "#bd3786"
             ],
             [
              0.5555555555555556,
              "#d8576b"
             ],
             [
              0.6666666666666666,
              "#ed7953"
             ],
             [
              0.7777777777777778,
              "#fb9f3a"
             ],
             [
              0.8888888888888888,
              "#fdca26"
             ],
             [
              1,
              "#f0f921"
             ]
            ],
            "type": "surface"
           }
          ],
          "table": [
           {
            "cells": {
             "fill": {
              "color": "#EBF0F8"
             },
             "line": {
              "color": "white"
             }
            },
            "header": {
             "fill": {
              "color": "#C8D4E3"
             },
             "line": {
              "color": "white"
             }
            },
            "type": "table"
           }
          ]
         },
         "layout": {
          "annotationdefaults": {
           "arrowcolor": "#2a3f5f",
           "arrowhead": 0,
           "arrowwidth": 1
          },
          "autotypenumbers": "strict",
          "coloraxis": {
           "colorbar": {
            "outlinewidth": 0,
            "ticks": ""
           }
          },
          "colorscale": {
           "diverging": [
            [
             0,
             "#8e0152"
            ],
            [
             0.1,
             "#c51b7d"
            ],
            [
             0.2,
             "#de77ae"
            ],
            [
             0.3,
             "#f1b6da"
            ],
            [
             0.4,
             "#fde0ef"
            ],
            [
             0.5,
             "#f7f7f7"
            ],
            [
             0.6,
             "#e6f5d0"
            ],
            [
             0.7,
             "#b8e186"
            ],
            [
             0.8,
             "#7fbc41"
            ],
            [
             0.9,
             "#4d9221"
            ],
            [
             1,
             "#276419"
            ]
           ],
           "sequential": [
            [
             0,
             "#0d0887"
            ],
            [
             0.1111111111111111,
             "#46039f"
            ],
            [
             0.2222222222222222,
             "#7201a8"
            ],
            [
             0.3333333333333333,
             "#9c179e"
            ],
            [
             0.4444444444444444,
             "#bd3786"
            ],
            [
             0.5555555555555556,
             "#d8576b"
            ],
            [
             0.6666666666666666,
             "#ed7953"
            ],
            [
             0.7777777777777778,
             "#fb9f3a"
            ],
            [
             0.8888888888888888,
             "#fdca26"
            ],
            [
             1,
             "#f0f921"
            ]
           ],
           "sequentialminus": [
            [
             0,
             "#0d0887"
            ],
            [
             0.1111111111111111,
             "#46039f"
            ],
            [
             0.2222222222222222,
             "#7201a8"
            ],
            [
             0.3333333333333333,
             "#9c179e"
            ],
            [
             0.4444444444444444,
             "#bd3786"
            ],
            [
             0.5555555555555556,
             "#d8576b"
            ],
            [
             0.6666666666666666,
             "#ed7953"
            ],
            [
             0.7777777777777778,
             "#fb9f3a"
            ],
            [
             0.8888888888888888,
             "#fdca26"
            ],
            [
             1,
             "#f0f921"
            ]
           ]
          },
          "colorway": [
           "#636efa",
           "#EF553B",
           "#00cc96",
           "#ab63fa",
           "#FFA15A",
           "#19d3f3",
           "#FF6692",
           "#B6E880",
           "#FF97FF",
           "#FECB52"
          ],
          "font": {
           "color": "#2a3f5f"
          },
          "geo": {
           "bgcolor": "white",
           "lakecolor": "white",
           "landcolor": "#E5ECF6",
           "showlakes": true,
           "showland": true,
           "subunitcolor": "white"
          },
          "hoverlabel": {
           "align": "left"
          },
          "hovermode": "closest",
          "mapbox": {
           "style": "light"
          },
          "paper_bgcolor": "white",
          "plot_bgcolor": "#E5ECF6",
          "polar": {
           "angularaxis": {
            "gridcolor": "white",
            "linecolor": "white",
            "ticks": ""
           },
           "bgcolor": "#E5ECF6",
           "radialaxis": {
            "gridcolor": "white",
            "linecolor": "white",
            "ticks": ""
           }
          },
          "scene": {
           "xaxis": {
            "backgroundcolor": "#E5ECF6",
            "gridcolor": "white",
            "gridwidth": 2,
            "linecolor": "white",
            "showbackground": true,
            "ticks": "",
            "zerolinecolor": "white"
           },
           "yaxis": {
            "backgroundcolor": "#E5ECF6",
            "gridcolor": "white",
            "gridwidth": 2,
            "linecolor": "white",
            "showbackground": true,
            "ticks": "",
            "zerolinecolor": "white"
           },
           "zaxis": {
            "backgroundcolor": "#E5ECF6",
            "gridcolor": "white",
            "gridwidth": 2,
            "linecolor": "white",
            "showbackground": true,
            "ticks": "",
            "zerolinecolor": "white"
           }
          },
          "shapedefaults": {
           "line": {
            "color": "#2a3f5f"
           }
          },
          "ternary": {
           "aaxis": {
            "gridcolor": "white",
            "linecolor": "white",
            "ticks": ""
           },
           "baxis": {
            "gridcolor": "white",
            "linecolor": "white",
            "ticks": ""
           },
           "bgcolor": "#E5ECF6",
           "caxis": {
            "gridcolor": "white",
            "linecolor": "white",
            "ticks": ""
           }
          },
          "title": {
           "x": 0.05
          },
          "xaxis": {
           "automargin": true,
           "gridcolor": "white",
           "linecolor": "white",
           "ticks": "",
           "title": {
            "standoff": 15
           },
           "zerolinecolor": "white",
           "zerolinewidth": 2
          },
          "yaxis": {
           "automargin": true,
           "gridcolor": "white",
           "linecolor": "white",
           "ticks": "",
           "title": {
            "standoff": 15
           },
           "zerolinecolor": "white",
           "zerolinewidth": 2
          }
         }
        },
        "title": {
         "text": "Conf Matrix"
        },
        "width": 800,
        "xaxis": {
         "title": {
          "text": "Predicted value"
         }
        },
        "yaxis": {
         "title": {
          "text": "Real value"
         }
        }
       }
      }
     },
     "metadata": {},
     "output_type": "display_data"
    },
    {
     "data": {
      "text/plain": [
       "0.3533306729890443"
      ]
     },
     "execution_count": 23,
     "metadata": {},
     "output_type": "execute_result"
    }
   ],
   "source": [
    "#Vamos a replicar el resultado de la optimizacion reentrenando el modelo con el mejor conjunto de hiperparametros\n",
    "#Generamos parametros incluyendo los fijos y la mejor solución que encontro optuna\n",
    "lgb_params =  {      **lgbm_params,\n",
    "                        'objective': 'multiclassova',\n",
    "                        'verbosity':-1,\n",
    "                        'num_class': len(y_train.unique())}\n",
    "\n",
    "lgb_train_dataset = lgb.Dataset(data=X_train,\n",
    "                                label=y_train)\n",
    "\n",
    "\n",
    "#Entreno\n",
    "lgb_model = lgb.train(lgb_params,\n",
    "                    lgb_train_dataset)\n",
    "\n",
    "lgb_proba = lgb_model.predict(X_val)\n",
    "lgb_pred = lgb_model.predict(X_val).argmax(axis=1)\n",
    "\n",
    "#Muestro matriz de confusion y kappa\n",
    "display(plot_confusion_matrix(y_val, lgb_pred))\n",
    "\n",
    "cohen_kappa_score(y_val,lgb_pred,\n",
    "                  weights = 'quadratic')\n"
   ]
  },
  {
   "cell_type": "code",
   "execution_count": 24,
   "metadata": {},
   "outputs": [
    {
     "data": {
      "image/png": "[encoded data removed]",
      "text/plain": [
       "<Figure size 1000x800 with 1 Axes>"
      ]
     },
     "metadata": {},
     "output_type": "display_data"
    }
   ],
   "source": [
    "feature_importance = pd.DataFrame({'feature': preprocessor.get_feature_names_out(), 'weight': lgb_model.feature_importance(importance_type='gain')})\n",
    "feature_importance = feature_importance.sort_values('weight', ascending=False).head(20)\n",
    "# Plot feature importance\n",
    "plt.figure(figsize=(10, 8))\n",
    "plt.barh(feature_importance['feature'], feature_importance['weight'])\n",
    "plt.xlabel('Importance')\n",
    "plt.ylabel('Feature')\n",
    "plt.title('Top 20 Feature Importance')\n",
    "plt.gca().invert_yaxis()\n",
    "plt.show()\n"
   ]
  },
  {
   "cell_type": "markdown",
   "metadata": {},
   "source": [
    "# Blend"
   ]
  },
  {
   "cell_type": "markdown",
   "metadata": {},
   "source": [
    "## Bert and resnet"
   ]
  },
  {
   "cell_type": "markdown",
   "metadata": {},
   "source": [
    "En maquinas virtuales con GPU se corrieron modelos predictivos en base a imagenes y texto que predijeron la clase final para cada observacion de nuestros datos de entrenamiento para hacer un blend de modelos con la esperanza de que mejore la métrica.\n",
    "\n",
    "El primer blend utiliza la red ResNet como base para hacer predicciones en base a una unica imagen por cada observacion y la red Bert para hacer la clasificacione en base al texto en `Description`"
   ]
  },
  {
   "cell_type": "code",
   "execution_count": 49,
   "metadata": {},
   "outputs": [],
   "source": [
    "nn_proba_res = load(os.path.join(BASE_DIR, \"resultados_nn_bert/test_04 ResNet__1.0.0_0.joblib\"))\n",
    "nn_proba_res = nn_proba_res[['PetID', 'pred']]\n",
    "\n",
    "bert_proba = load(os.path.join(BASE_DIR, \"resultados_nn_bert/test_06 Bert_1.0_3.joblib\"))\n",
    "bert_proba = bert_proba[['PetID', 'pred']]"
   ]
  },
  {
   "cell_type": "code",
   "execution_count": 50,
   "metadata": {},
   "outputs": [],
   "source": [
    "lgb_proba_df = pd.DataFrame({'PetID': X_val_id,\n",
    "                            'lgbm_proba': list(lgb_proba)})\n",
    "\n",
    "all_proba = lgb_proba_df.merge(bert_proba[['PetID', 'pred']].rename({'pred':'bert_proba'},axis=1),\n",
    "                  on='PetID', how='left').merge(nn_proba_res[['PetID', 'pred']].rename({'pred':'nn_proba_ResNet'},axis=1),\n",
    "                  on='PetID', how='left').merge(df_train[['PetID','AdoptionSpeed']], on='PetID', how='left')\n",
    "\n",
    "all_proba['bert_proba'] = [np.zeros(5) if type(i) is float else  i for i in all_proba['bert_proba']]\n",
    "all_proba['nn_proba_ResNet'] = [np.zeros(5) if type(i) is float else  i for i in all_proba['nn_proba_ResNet']]"
   ]
  },
  {
   "cell_type": "code",
   "execution_count": 51,
   "metadata": {},
   "outputs": [],
   "source": [
    "y = all_proba['AdoptionSpeed']"
   ]
  },
  {
   "cell_type": "markdown",
   "metadata": {},
   "source": [
    "### Optimizacion de los pesos para cada modelo"
   ]
  },
  {
   "cell_type": "code",
   "execution_count": 52,
   "metadata": {},
   "outputs": [
    {
     "name": "stderr",
     "output_type": "stream",
     "text": [
      "Best trial: 271. Best value: 0.425546: 100%|██████████| 400/400 [00:12<00:00, 31.34it/s]"
     ]
    },
    {
     "name": "stdout",
     "output_type": "stream",
     "text": [
      "Best weights: {'w_lgbm': 0.8918273684383955, 'w_bert': 0.18653853630479023, 'w_nn': 0.12153936727177415}\n"
     ]
    },
    {
     "name": "stderr",
     "output_type": "stream",
     "text": [
      "\n"
     ]
    }
   ],
   "source": [
    "def objective(trial):\n",
    "    # Suggest weights for each model's predictions\n",
    "    w_lgbm = trial.suggest_float('w_lgbm', 0.5, 1.0)\n",
    "    w_bert = trial.suggest_float('w_bert', 0.0, 0.5)\n",
    "    w_nn_res = trial.suggest_float('w_nn', 0.0, 0.5)\n",
    "\n",
    "    # Normalize weights\n",
    "    w_sum = w_lgbm + w_bert + w_nn_res\n",
    "    w_lgbm /= w_sum\n",
    "    w_bert /= w_sum\n",
    "    w_nn_res /= w_sum\n",
    "    # Calculate the blended predictions\n",
    "    y_pred = np.array((w_lgbm* all_proba['lgbm_proba']+ \n",
    "                        w_bert * all_proba['bert_proba']+\n",
    "                        w_nn_res* all_proba['nn_proba_ResNet']).tolist()).argmax(axis=1)\n",
    "    \n",
    "    # Calculate the quadratic weighted kappa\n",
    "    kappa = cohen_kappa_score(y, y_pred, weights='quadratic')\n",
    "\n",
    "    return kappa\n",
    "\n",
    "# Create an Optuna study\n",
    "optuna.logging.set_verbosity(optuna.logging.WARNING)\n",
    "#optuna.logging.set_verbosity(optuna.logging.INFO)\n",
    "study_blend = optuna.create_study(direction=\"maximize\")\n",
    "study_blend.optimize(objective, n_trials=400, show_progress_bar = True)\n",
    "\n",
    "# Best weights found\n",
    "best_weights = study_blend.best_trial.params\n",
    "print(\"Best weights:\", best_weights)"
   ]
  },
  {
   "cell_type": "code",
   "execution_count": 53,
   "metadata": {},
   "outputs": [
    {
     "name": "stdout",
     "output_type": "stream",
     "text": [
      "Kappa blend 0.4255461737732995, \n",
      "Kappa LGBM: 0.3533306729890443, \n",
      "Kappa NN_resnet: 0.2701857779092195, \n",
      "Kappa BERT: 0.2497737871153365\n"
     ]
    },
    {
     "data": {
      "image/png": "[encoded data removed]",
      "text/plain": [
       "<Figure size 1000x600 with 1 Axes>"
      ]
     },
     "metadata": {},
     "output_type": "display_data"
    }
   ],
   "source": [
    "# Calculate the quadratic weighted kappa\n",
    "lgbm_kappa = cohen_kappa_score(y, np.array(all_proba['lgbm_proba'].tolist()).argmax(axis=1), weights='quadratic')\n",
    "# Calculate the quadratic weighted kappa\n",
    "bert_kappa = cohen_kappa_score(y, np.array(all_proba['bert_proba'].tolist()).argmax(axis=1), weights='quadratic')\n",
    "# Calculate the quadratic weighted kappa\n",
    "nn_Res_kappa = cohen_kappa_score(y, np.array(all_proba['nn_proba_ResNet'].tolist()).argmax(axis=1), weights='quadratic')\n",
    "print(f\"Kappa blend {study_blend.best_value}, \\nKappa LGBM: {lgbm_kappa}, \\nKappa NN_resnet: {nn_Res_kappa}, \\nKappa BERT: {bert_kappa}\")\n",
    "# Create a bar plot to represent the kappa values\n",
    "kappa_values = {    \n",
    "    'Blend': study_blend.best_value,\n",
    "    'LGBM': lgbm_kappa,\n",
    "    'NN_ResNet': nn_Res_kappa,\n",
    "    'BERT': bert_kappa\n",
    "}\n",
    "colors = ['#AEC6CF', '#FFB347', '#77DD77', '#FF6961']\n",
    "plt.figure(figsize=(10, 6))\n",
    "plt.bar(kappa_values.keys(), kappa_values.values(), color=colors)\n",
    "plt.xlabel('Model')\n",
    "plt.ylabel('Kappa Score')\n",
    "plt.title('Kappa Scores for Different Models and Blend')\n",
    "plt.ylim(0, 0.5)\n",
    "plt.show()"
   ]
  },
  {
   "cell_type": "markdown",
   "metadata": {},
   "source": [
    "Haciendo un mix entre los tres modelos, obtenemos una mejora sustancial en la capacidad predictiva comparandolo a cada modelo individual"
   ]
  },
  {
   "cell_type": "markdown",
   "metadata": {},
   "source": [
    "## Bert, ResNet y Effnet"
   ]
  },
  {
   "cell_type": "markdown",
   "metadata": {},
   "source": [
    "Como complemento, se suma las predicciones hechas por un modelo basado en la red EffNet"
   ]
  },
  {
   "cell_type": "code",
   "execution_count": 54,
   "metadata": {},
   "outputs": [],
   "source": [
    "nn_proba_eff = load(os.path.join(BASE_DIR, \"resultados_nn_bert/test_04 Effnet_1.0.0_0.joblib\"))\n",
    "nn_proba_eff = nn_proba_eff[['PetID', 'pred']]\n",
    "\n",
    "all_proba = all_proba.merge(nn_proba_eff[['PetID', 'pred']].rename({'pred':'nn_proba_Effnet'},axis=1),\n",
    "                  on='PetID', how='left')\n",
    "\n",
    "all_proba['nn_proba_Effnet'] = [np.zeros(5) if type(i) is float else i for i in all_proba['nn_proba_Effnet']]"
   ]
  },
  {
   "cell_type": "code",
   "execution_count": 55,
   "metadata": {},
   "outputs": [
    {
     "name": "stderr",
     "output_type": "stream",
     "text": [
      "Best trial: 389. Best value: 0.430302: 100%|██████████| 400/400 [00:16<00:00, 23.87it/s]"
     ]
    },
    {
     "name": "stdout",
     "output_type": "stream",
     "text": [
      "Best weights: {'w_lgbm': 0.9301243607090792, 'w_bert': 0.1602519836439884, 'w_nn_res': 0.09816602464640131, 'w_nn_eff': 0.05542625478304978}\n"
     ]
    },
    {
     "name": "stderr",
     "output_type": "stream",
     "text": [
      "\n"
     ]
    }
   ],
   "source": [
    "def objective(trial):\n",
    "    # Suggest weights for each model's predictions\n",
    "    w_lgbm = trial.suggest_float('w_lgbm', 0.5, 1.0)\n",
    "    w_bert = trial.suggest_float('w_bert', 0.0, 0.5)\n",
    "    w_nn_res = trial.suggest_float('w_nn_res', 0.0, 0.5)\n",
    "    w_nn_eff = trial.suggest_float('w_nn_eff', 0.0, 0.5)\n",
    "\n",
    "    # Normalize weights\n",
    "    w_sum = w_lgbm + w_bert + w_nn_res + w_nn_eff\n",
    "    w_lgbm /= w_sum\n",
    "    w_bert /= w_sum\n",
    "    w_nn_res /= w_sum\n",
    "    w_nn_eff /= w_sum\n",
    "\n",
    "    # Calculate the blended predictions\n",
    "    y_pred = np.array((w_lgbm* all_proba['lgbm_proba']+ \n",
    "                        w_bert * all_proba['bert_proba']+\n",
    "                        w_nn_res* all_proba['nn_proba_ResNet']+\n",
    "                        w_nn_eff*all_proba['nn_proba_Effnet']).tolist()).argmax(axis=1)\n",
    "    \n",
    "    # Calculate the quadratic weighted kappa\n",
    "    kappa = cohen_kappa_score(y, y_pred, weights='quadratic')\n",
    "\n",
    "    return kappa\n",
    "\n",
    "# Create an Optuna study\n",
    "optuna.logging.set_verbosity(optuna.logging.WARNING)\n",
    "#optuna.logging.set_verbosity(optuna.logging.INFO)\n",
    "study_blend_final = optuna.create_study(direction=\"maximize\")\n",
    "study_blend_final.optimize(objective, n_trials=400, show_progress_bar = True)\n",
    "\n",
    "# Best weights found\n",
    "best_weights = study_blend_final.best_trial.params\n",
    "print(\"Best weights:\", best_weights)"
   ]
  },
  {
   "cell_type": "code",
   "execution_count": 56,
   "metadata": {},
   "outputs": [
    {
     "name": "stdout",
     "output_type": "stream",
     "text": [
      "Kappa blend final 0.4303016262791789, \n",
      "Kappa blend 0.4255461737732995, \n",
      "Kappa LGBM: 0.3533306729890443, \n",
      "Kappa NN_resnet: 0.2701857779092195, \n",
      "Kappa BERT: 0.2497737871153365, \n",
      "Kappa NN_effnet: 0.22677179346234155\n"
     ]
    },
    {
     "data": {
      "image/png": "[encoded data removed]",
      "text/plain": [
       "<Figure size 1000x600 with 1 Axes>"
      ]
     },
     "metadata": {},
     "output_type": "display_data"
    }
   ],
   "source": [
    "# Calculate the quadratic weighted kappa\n",
    "nn_eff_kappa = cohen_kappa_score(y, np.array(all_proba['nn_proba_Effnet'].tolist()).argmax(axis=1), weights='quadratic')\n",
    "print(f\"Kappa blend final {study_blend_final.best_value}, \\nKappa blend {study_blend.best_value}, \\nKappa LGBM: {lgbm_kappa}, \\nKappa NN_resnet: {nn_Res_kappa}, \\nKappa BERT: {bert_kappa}, \\nKappa NN_effnet: {nn_eff_kappa}\")\n",
    "\n",
    "kappa_values = {\n",
    "    'Blend_final': study_blend_final.best_value,    \n",
    "    'Blend_ResNet': study_blend.best_value,\n",
    "    'LGBM': lgbm_kappa,\n",
    "    'NN_ResNet': nn_Res_kappa,\n",
    "    'BERT': bert_kappa,\n",
    "    'NN_EffNet': nn_eff_kappa\n",
    "}\n",
    "colors = ['#FFD1DC','#AEC6CF', '#FFB347', '#77DD77', '#FF6961', '#CFCFC4']\n",
    "plt.figure(figsize=(10, 6))\n",
    "plt.bar(kappa_values.keys(), kappa_values.values(), color=colors)\n",
    "plt.xlabel('Model')\n",
    "plt.ylabel('Kappa Score')\n",
    "plt.title('Kappa Scores for Different Models and Blend')\n",
    "plt.ylim(0, 0.5)\n",
    "plt.show()"
   ]
  },
  {
   "cell_type": "markdown",
   "metadata": {},
   "source": [
    "Este segundo modelo de imágenes, es claramente peor que ResNet según la métrica, pero al sumarlo al blend obtenemos una pequeña mejora lo cual demuestra que,\n",
    "\n",
    "* Los modelos preentrenados capturan diferentes características de las imágenes\n",
    "* La técnica de hacer una mezcla de diferentes modelos es efectiva a pesar de que se esten predigan en base a la mismas variables de entrada"
   ]
  },
  {
   "cell_type": "markdown",
   "metadata": {},
   "source": [
    "# Conclusión"
   ]
  },
  {
   "cell_type": "markdown",
   "metadata": {},
   "source": [
    "En este notebook, se ha desarrollado un modelo de predicción de la velocidad de adopción de mascotas utilizando una combinación de técnicas de aprendizaje automático y procesamiento de datos. A continuación, se resumen los puntos clave y conclusiones obtenidas:\n",
    "\n",
    "1. **Preprocesamiento y Feature Engineering**:\n",
    "    * Se realizaron diversas transformaciones y creación de nuevas variables a partir de los datos originales, como la unificación de razas, colores, y la creación de variables indicadoras.\n",
    "    * Se utilizaron técnicas de codificación ordinal para las variables categóricas y se aplicaron transformaciones logarítmicas para algunas variables numéricas.\n",
    "\n",
    "2. **Entrenamiento del Modelo**:\n",
    "    * Se entrenó un modelo inicial utilizando LightGBM con parámetros por defecto y se evaluó su rendimiento utilizando la métrica de Kappa ponderada.\n",
    "    * Se realizó una optimización de hiperparámetros utilizando Optuna para mejorar el rendimiento del modelo.\n",
    "\n",
    "4. **Blend de Modelos**:\n",
    "    * Se combinaron las predicciones de diferentes modelos (LightGBM, ResNet, BERT y EffNet) para mejorar la capacidad predictiva.\n",
    "    * La combinación de modelos demostró ser efectiva, capturando diferentes características de las imágenes y textos, y mejorando la métrica de Kappa ponderada.\n",
    "\n",
    "5. **Optimización de Pesos**:\n",
    "    * Se optimizaron los pesos de cada modelo en el blend utilizando Optuna, logrando una mejora sustancial en la capacidad predictiva comparada con cada modelo individual.\n",
    "\n",
    "6. **Resultados Finales**:\n",
    "    * El blend final de modelos mostró una mejora en la métrica de Kappa ponderada, demostrando la efectividad de la combinación de diferentes enfoques y modelos preentrenados.\n",
    "\n",
    "En resumen, la combinación de técnicas de preprocesamiento, optimización de hiperparámetros y blend de modelos permitió desarrollar un modelo mas preciso para predecir la velocidad de adopción de mascotas que sus capacidades individuales. Este enfoque puede ser aplicado a otros problemas similares, aprovechando la diversidad de modelos y técnicas disponibles."
   ]
  }
 ],
 "metadata": {
  "kernelspec": {
   "display_name": ".venv",
   "language": "python",
   "name": "python3"
  },
  "language_info": {
   "codemirror_mode": {
    "name": "ipython",
    "version": 3
   },
   "file_extension": ".py",
   "mimetype": "text/x-python",
   "name": "python",
   "nbconvert_exporter": "python",
   "pygments_lexer": "ipython3",
   "version": "3.12.7"
  }
 },
 "nbformat": 4,
 "nbformat_minor": 2
}
